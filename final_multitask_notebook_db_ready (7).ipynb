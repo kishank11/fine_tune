{
  "cells": [
    {
      "cell_type": "code",
      "execution_count": 1,
      "id": "j_WO4wB1B-wb",
      "metadata": {
        "colab": {
          "base_uri": "https://localhost:8080/"
        },
        "id": "j_WO4wB1B-wb",
        "outputId": "efb27f0e-dcc1-4e8a-8894-89880a9ca241"
      },
      "outputs": [
        {
          "output_type": "stream",
          "name": "stdout",
          "text": [
            "\r0% [Working]\r            \rHit:1 http://security.ubuntu.com/ubuntu jammy-security InRelease\n",
            "\r0% [Connecting to archive.ubuntu.com (185.125.190.81)] [Connected to cloud.r-pr\r                                                                               \rHit:2 https://developer.download.nvidia.com/compute/cuda/repos/ubuntu2204/x86_64  InRelease\n",
            "Hit:3 https://cloud.r-project.org/bin/linux/ubuntu jammy-cran40/ InRelease\n",
            "Hit:4 https://r2u.stat.illinois.edu/ubuntu jammy InRelease\n",
            "Hit:5 http://archive.ubuntu.com/ubuntu jammy InRelease\n",
            "Hit:6 http://archive.ubuntu.com/ubuntu jammy-updates InRelease\n",
            "Hit:7 http://archive.ubuntu.com/ubuntu jammy-backports InRelease\n",
            "Hit:8 https://ppa.launchpadcontent.net/deadsnakes/ppa/ubuntu jammy InRelease\n",
            "Hit:9 https://ppa.launchpadcontent.net/graphics-drivers/ppa/ubuntu jammy InRelease\n",
            "Hit:10 https://ppa.launchpadcontent.net/ubuntugis/ppa/ubuntu jammy InRelease\n",
            "Reading package lists... Done\n",
            "W: Skipping acquire of configured file 'main/source/Sources' as repository 'https://r2u.stat.illinois.edu/ubuntu jammy InRelease' does not seem to provide it (sources.list entry misspelt?)\n",
            "Reading package lists... Done\n",
            "Building dependency tree... Done\n",
            "Reading state information... Done\n",
            "build-essential is already the newest version (12.9ubuntu3).\n",
            "libmariadb-dev is already the newest version (1:10.6.22-0ubuntu0.22.04.1).\n",
            "libmariadb-dev-compat is already the newest version (1:10.6.22-0ubuntu0.22.04.1).\n",
            "The following packages were automatically installed and are no longer required:\n",
            "  libaom-dev libarmadillo-dev libarpack2-dev libblosc-dev libcfitsio-dev\n",
            "  libdav1d-dev libde265-dev libfreexl-dev libfyba-dev libgeos-dev\n",
            "  libgeotiff-dev libgif-dev libhdf4-alt-dev libheif-dev libjson-c-dev\n",
            "  libkml-dev libkmlconvenience1 libkmlregionator1 libkmlxsd1 liblz4-dev\n",
            "  libminizip-dev libnetcdf-dev libodbccr2 libogdi-dev libopenjp2-7-dev\n",
            "  libpoppler-dev libpoppler-private-dev libpq-dev libproj-dev libqhull-dev\n",
            "  libqhull8.0 libqhullcpp8.0 librttopo-dev libspatialite-dev libsqlite3-dev\n",
            "  libsuperlu-dev liburiparser-dev libwebp-dev libx265-dev libxerces-c-dev\n",
            "  unixodbc-dev\n",
            "Use 'apt autoremove' to remove them.\n",
            "0 upgraded, 0 newly installed, 0 to remove and 83 not upgraded.\n",
            "Requirement already satisfied: mariadb in /usr/local/lib/python3.11/dist-packages (1.1.12)\n",
            "Requirement already satisfied: packaging in /usr/local/lib/python3.11/dist-packages (from mariadb) (24.2)\n"
          ]
        }
      ],
      "source": [
        "!apt-get update\n",
        "!apt-get install -y libmariadb-dev libmariadb-dev-compat build-essential\n",
        "!pip install mariadb\n"
      ]
    },
    {
      "cell_type": "code",
      "execution_count": 2,
      "id": "d4f07b3a",
      "metadata": {
        "colab": {
          "base_uri": "https://localhost:8080/"
        },
        "id": "d4f07b3a",
        "outputId": "75908a37-b4f1-4d99-f3a7-945c80bd9012"
      },
      "outputs": [
        {
          "output_type": "stream",
          "name": "stdout",
          "text": [
            "fatal: destination path 'Argument-Mining' already exists and is not an empty directory.\n"
          ]
        }
      ],
      "source": [
        "!pip install transformers datasets scikit-learn sqlalchemy mariadb --quiet\n",
        "!git clone https://github.com/Horizontal-Labs/Argument-Mining.git\n",
        "import sys\n",
        "sys.path.append(\"/content/Argument-Mining\")\n"
      ]
    },
    {
      "cell_type": "markdown",
      "source": [],
      "metadata": {
        "id": "Q4sAgJE7-Z5L"
      },
      "id": "Q4sAgJE7-Z5L"
    },
    {
      "cell_type": "code",
      "execution_count": 3,
      "id": "1W8sYgA52_Nn",
      "metadata": {
        "colab": {
          "base_uri": "https://localhost:8080/"
        },
        "id": "1W8sYgA52_Nn",
        "outputId": "9d513ae5-f838-4534-a109-41288d9e0b2f"
      },
      "outputs": [
        {
          "output_type": "stream",
          "name": "stdout",
          "text": [
            "Requirement already satisfied: mysql-connector-python in /usr/local/lib/python3.11/dist-packages (9.3.0)\n"
          ]
        }
      ],
      "source": [
        "!pip install mysql-connector-python\n"
      ]
    },
    {
      "cell_type": "code",
      "execution_count": 4,
      "id": "85a7a893",
      "metadata": {
        "id": "85a7a893"
      },
      "outputs": [],
      "source": [
        "from sqlalchemy import create_engine\n",
        "from sqlalchemy.orm import sessionmaker\n",
        "from db.models import ADU, Relationship\n",
        "import pandas as pd\n",
        "\n",
        "# Database credentials\n",
        "DB = \"argument-mining\"\n",
        "HOST = \"argumentmining.ddns.net:3306\"\n",
        "USER = \"guidedproject\"\n",
        "PW = \"guidedproject\"\n",
        "DB_URI = f'mysql+mysqlconnector://{USER}:{PW}@{HOST}/{DB}'\n",
        "\n",
        "# Set up session\n",
        "engine = create_engine(DB_URI)\n",
        "Session = sessionmaker(bind=engine)\n",
        "session = Session()\n",
        "\n",
        "# Import query helpers\n",
        "from db.queries import get_training_data, get_test_data\n",
        "\n",
        "# Fetch training data\n",
        "claims_train, premises_train, stances_train = get_training_data()\n",
        "\n",
        "# Limit to first N pairs (e.g. 1000 claim-premise pairs = 2000 ADUs)\n",
        "LIMIT = 1000\n",
        "claims_train = claims_train[:LIMIT]\n",
        "premises_train = premises_train[:LIMIT]\n",
        "stances_train = stances_train[:LIMIT]\n",
        "\n",
        "\n",
        "\n",
        "\n",
        "\n",
        "# Convert to dataframe rows\n",
        "def adu_to_dict(adu_obj, label_type, stance):\n",
        "    return {\n",
        "        'text': adu_obj.text,\n",
        "        'type': label_type,\n",
        "        'stance': 1 if stance == 'stance_pro' else 0\n",
        "    }\n",
        "\n",
        "train_rows = []\n",
        "for claim, premise, stance in zip(claims_train, premises_train, stances_train):\n",
        "    if claim and premise:\n",
        "        train_rows.append(adu_to_dict(claim, 1, stance))\n",
        "        train_rows.append(adu_to_dict(premise, 0, stance))\n",
        "\n",
        "# Final dataframe\n",
        "df = pd.DataFrame(train_rows).dropna().reset_index(drop=True)\n",
        "\n",
        "\n"
      ]
    },
    {
      "cell_type": "code",
      "execution_count": 5,
      "id": "PDj7iMV9OXTf",
      "metadata": {
        "id": "PDj7iMV9OXTf"
      },
      "outputs": [],
      "source": [
        "claims_test, premises_test, stances_test = get_test_data()\n",
        "\n",
        "claims_test = claims_test[:5000]\n",
        "premises_test = premises_test[:5000]\n",
        "stances_test = stances_test[:5000]"
      ]
    },
    {
      "cell_type": "code",
      "execution_count": 6,
      "id": "fe67c6ed",
      "metadata": {
        "colab": {
          "base_uri": "https://localhost:8080/",
          "height": 212,
          "referenced_widgets": [
            "72dd835d2a504851b7b4bc7b0ac9829f",
            "6641871e3c434e49bdb5fdb120fe03c3",
            "9c7585a33c1b4b82a07d06945ef7b3b8",
            "7d1e8a0eae6c472aa0ba3e18889661c2",
            "30a7e9958a3b412b8c38d407945c0b9a",
            "8077c882e07d4d4ca097e6c692c7111c",
            "e49ffbdcc6084f88ae7cd9bbd469e0ea",
            "6c60783c5037406a8a76c3e6c1a91210",
            "3c55020e98a44fb2bc0ba739c032afcb",
            "a502ee96c8234629a09f4f20b551e98b",
            "8878140491cf4cba926e1530bc3af489"
          ]
        },
        "id": "fe67c6ed",
        "outputId": "39322a0c-a43f-45d4-b370-1b7a0695f981"
      },
      "outputs": [
        {
          "output_type": "stream",
          "name": "stderr",
          "text": [
            "/usr/local/lib/python3.11/dist-packages/huggingface_hub/utils/_auth.py:94: UserWarning: \n",
            "The secret `HF_TOKEN` does not exist in your Colab secrets.\n",
            "To authenticate with the Hugging Face Hub, create a token in your settings tab (https://huggingface.co/settings/tokens), set it as secret in your Google Colab and restart your session.\n",
            "You will be able to reuse this secret in all of your notebooks.\n",
            "Please note that authentication is recommended but still optional to access public models or datasets.\n",
            "  warnings.warn(\n",
            "/usr/local/lib/python3.11/dist-packages/transformers/convert_slow_tokenizer.py:559: UserWarning: The sentencepiece tokenizer that you are converting to a fast tokenizer uses the byte fallback option which is not implemented in the fast tokenizers. In practice this means that the fast version of the tokenizer can produce unknown tokens whereas the sentencepiece version would have converted these unknown tokens into a sequence of byte tokens matching the original piece of text.\n",
            "  warnings.warn(\n"
          ]
        },
        {
          "output_type": "display_data",
          "data": {
            "text/plain": [
              "Map:   0%|          | 0/2000 [00:00<?, ? examples/s]"
            ],
            "application/vnd.jupyter.widget-view+json": {
              "version_major": 2,
              "version_minor": 0,
              "model_id": "72dd835d2a504851b7b4bc7b0ac9829f"
            }
          },
          "metadata": {}
        }
      ],
      "source": [
        "from transformers import AutoTokenizer\n",
        "from datasets import Dataset\n",
        "\n",
        "tokenizer = AutoTokenizer.from_pretrained('microsoft/deberta-v3-base')\n",
        "dataset = Dataset.from_pandas(df)\n",
        "\n",
        "def tokenize(example):\n",
        "    return tokenizer(example['text'], padding='max_length', truncation=True, max_length=128)\n",
        "\n",
        "dataset = dataset.map(tokenize, batched=True)\n",
        "\n",
        "dataset = dataset.remove_columns(['text', '__index_level_0__'] if '__index_level_0__' in dataset.column_names else ['text'])\n",
        "encoded_train = dataset"
      ]
    },
    {
      "cell_type": "code",
      "execution_count": 7,
      "id": "JWf1zjaCNInZ",
      "metadata": {
        "colab": {
          "base_uri": "https://localhost:8080/",
          "height": 49,
          "referenced_widgets": [
            "68fd5bca457d44be91e7276489b322ac",
            "26c7c1457e9e494780691babad561c7c",
            "7e65bbad788a46df888bc065332f3a90",
            "ed85ab07e74a49b785ecef214fa498be",
            "e58ea05a016d469899e46f71d47742f1",
            "751f485435cf452fbce2013589f1b2b9",
            "65cd725e5c0a4ed1b80368cb91e614bc",
            "56d9df2e21754366bc45f5ace662386b",
            "7108043063ec46f996e52bc1ca2b84a1",
            "159d5f25fa9c4c49a4f66265009517bc",
            "b642f898705a47ec8c302acbf850a072"
          ]
        },
        "id": "JWf1zjaCNInZ",
        "outputId": "24878cde-005d-4985-cf99-94c2125fe884"
      },
      "outputs": [
        {
          "output_type": "display_data",
          "data": {
            "text/plain": [
              "Map:   0%|          | 0/10000 [00:00<?, ? examples/s]"
            ],
            "application/vnd.jupyter.widget-view+json": {
              "version_major": 2,
              "version_minor": 0,
              "model_id": "68fd5bca457d44be91e7276489b322ac"
            }
          },
          "metadata": {}
        }
      ],
      "source": [
        "test_rows = []\n",
        "for claim, premise, stance in zip(claims_test, premises_test, stances_test):\n",
        "    if claim is not None:\n",
        "        test_rows.append(adu_to_dict(claim, 1, stance))\n",
        "    if premise is not None:\n",
        "        test_rows.append(adu_to_dict(premise, 0, stance))\n",
        "\n",
        "df_test = pd.DataFrame(test_rows)\n",
        "\n",
        "# Convert test dataframe to Hugging Face Dataset\n",
        "test_dataset = Dataset.from_pandas(df_test)\n",
        "\n",
        "# Tokenize the test dataset\n",
        "encoded_test = test_dataset.map(tokenize, batched=True)\n",
        "\n",
        "# Remove original text column and potential index column\n",
        "encoded_test = encoded_test.remove_columns(['text', '__index_level_0__'] if '__index_level_0__' in encoded_test.column_names else ['text'])\n"
      ]
    },
    {
      "cell_type": "code",
      "execution_count": 8,
      "id": "e66bdca5",
      "metadata": {
        "id": "e66bdca5"
      },
      "outputs": [],
      "source": [
        "import torch\n",
        "from torch import nn\n",
        "from transformers import AutoModel\n",
        "\n",
        "class MultiTaskModel(nn.Module):\n",
        "    def __init__(self, model_name):\n",
        "        super().__init__()\n",
        "        self.bert = AutoModel.from_pretrained(model_name)\n",
        "        hidden_size = self.bert.config.hidden_size\n",
        "        self.classifier_type = nn.Linear(hidden_size, 2)\n",
        "        self.classifier_stance = nn.Linear(hidden_size, 2)\n",
        "\n",
        "    def forward(self, input_ids, attention_mask=None, token_type_ids=None, type=None, stance=None): # Include token_type_ids\n",
        "        # Pass token_type_ids to the BERT model if provided\n",
        "        outputs = self.bert(input_ids, attention_mask=attention_mask, token_type_ids=token_type_ids)\n",
        "        pooled = outputs.last_hidden_state[:, 0]\n",
        "        return {\n",
        "            'logits_type': self.classifier_type(pooled),\n",
        "            'logits_stance': self.classifier_stance(pooled)\n",
        "        }\n",
        "\n",
        "model = MultiTaskModel('microsoft/deberta-v3-base')\n"
      ]
    },
    {
      "cell_type": "code",
      "execution_count": 9,
      "id": "1225af91",
      "metadata": {
        "id": "1225af91"
      },
      "outputs": [],
      "source": [
        "\n",
        "from transformers import TrainingArguments, Trainer\n",
        "from sklearn.metrics import accuracy_score\n",
        "\n",
        "class MultiTaskTrainer(Trainer):\n",
        "    def compute_loss(self, model, inputs, return_outputs=False, num_items_in_batch=None):\n",
        "        # Access 'type' and 'stance' directly from inputs\n",
        "        labels_type = inputs.get(\"type\")\n",
        "        labels_stance = inputs.get(\"stance\")\n",
        "        outputs = model(**inputs)\n",
        "        loss_fn = nn.CrossEntropyLoss()\n",
        "        loss_type = loss_fn(outputs[\"logits_type\"], labels_type)\n",
        "        loss_stance = loss_fn(outputs[\"logits_stance\"], labels_stance)\n",
        "        return (loss_type + loss_stance, outputs) if return_outputs else loss_type + loss_stance\n",
        "\n",
        "\n"
      ]
    },
    {
      "cell_type": "code",
      "execution_count": 10,
      "id": "9S73By8vNr3L",
      "metadata": {
        "id": "9S73By8vNr3L"
      },
      "outputs": [],
      "source": [
        "import os\n",
        "os.environ[\"CUDA_VISIBLE_DEVICES\"] = \"\"\n"
      ]
    },
    {
      "cell_type": "code",
      "execution_count": 11,
      "id": "FUb13bBeOhvd",
      "metadata": {
        "id": "FUb13bBeOhvd"
      },
      "outputs": [],
      "source": [
        "def adu_to_dict(adu_obj, label_type, stance):\n",
        "    return {\n",
        "        'text': adu_obj.text,\n",
        "        'type': label_type,\n",
        "        'stance': 1 if stance == 'stance_pro' else 0\n",
        "    }\n",
        "\n",
        "# Prepare test data\n",
        "test_rows = []\n",
        "for claim, premise, stance in zip(claims_test, premises_test, stances_test):\n",
        "    if claim is not None:\n",
        "        test_rows.append(adu_to_dict(claim, 1, stance))\n",
        "    if premise is not None:\n",
        "        test_rows.append(adu_to_dict(premise, 0, stance))\n",
        "\n",
        "df_test = pd.DataFrame(test_rows)"
      ]
    },
    {
      "cell_type": "code",
      "execution_count": 1,
      "id": "aElx62U6Ol-U",
      "metadata": {
        "colab": {
          "base_uri": "https://localhost:8080/",
          "height": 216
        },
        "id": "aElx62U6Ol-U",
        "outputId": "1020f76f-25ce-44cb-8ba8-32cda1b51315"
      },
      "outputs": [
        {
          "output_type": "error",
          "ename": "NameError",
          "evalue": "name 'tokenizer' is not defined",
          "traceback": [
            "\u001b[0;31m---------------------------------------------------------------------------\u001b[0m",
            "\u001b[0;31mNameError\u001b[0m                                 Traceback (most recent call last)",
            "\u001b[0;32m<ipython-input-1-787c0af5f6f0>\u001b[0m in \u001b[0;36m<cell line: 0>\u001b[0;34m()\u001b[0m\n\u001b[0;32m----> 1\u001b[0;31m encoded_test = tokenizer(\n\u001b[0m\u001b[1;32m      2\u001b[0m     \u001b[0mlist\u001b[0m\u001b[0;34m(\u001b[0m\u001b[0mdf_test\u001b[0m\u001b[0;34m[\u001b[0m\u001b[0;34m'text'\u001b[0m\u001b[0;34m]\u001b[0m\u001b[0;34m)\u001b[0m\u001b[0;34m,\u001b[0m\u001b[0;34m\u001b[0m\u001b[0;34m\u001b[0m\u001b[0m\n\u001b[1;32m      3\u001b[0m     \u001b[0mpadding\u001b[0m\u001b[0;34m=\u001b[0m\u001b[0;32mTrue\u001b[0m\u001b[0;34m,\u001b[0m\u001b[0;34m\u001b[0m\u001b[0;34m\u001b[0m\u001b[0m\n\u001b[1;32m      4\u001b[0m     \u001b[0mtruncation\u001b[0m\u001b[0;34m=\u001b[0m\u001b[0;32mTrue\u001b[0m\u001b[0;34m,\u001b[0m\u001b[0;34m\u001b[0m\u001b[0;34m\u001b[0m\u001b[0m\n\u001b[1;32m      5\u001b[0m     \u001b[0mreturn_tensors\u001b[0m\u001b[0;34m=\u001b[0m\u001b[0;34m'pt'\u001b[0m\u001b[0;34m\u001b[0m\u001b[0;34m\u001b[0m\u001b[0m\n",
            "\u001b[0;31mNameError\u001b[0m: name 'tokenizer' is not defined"
          ]
        }
      ],
      "source": [
        "encoded_test = tokenizer(\n",
        "    list(df_test['text']),\n",
        "    padding=True,\n",
        "    truncation=True,\n",
        "    return_tensors='pt'\n",
        ")\n",
        "\n",
        "# Add labels\n",
        "encoded_test['type'] = torch.tensor(df_test['type'].values)\n",
        "encoded_test['stance'] = torch.tensor(df_test['stance'].values)\n"
      ]
    },
    {
      "cell_type": "code",
      "source": [
        "from sklearn.metrics import accuracy_score, precision_recall_fscore_support\n",
        "\n",
        "def compute_metrics(eval_pred):\n",
        "    logits, labels = eval_pred\n",
        "\n",
        "    # If you have multiple heads, adjust this logic accordingly\n",
        "    if isinstance(logits, tuple):\n",
        "        # For multitask setup (e.g., type and stance)\n",
        "        type_logits, stance_logits = logits\n",
        "        type_preds = type_logits.argmax(axis=-1)\n",
        "        stance_preds = stance_logits.argmax(axis=-1)\n",
        "\n",
        "        type_labels = labels[\"type\"]\n",
        "        stance_labels = labels[\"stance\"]\n",
        "\n",
        "        # Type classification metrics\n",
        "        type_acc = accuracy_score(type_labels, type_preds)\n",
        "        type_precision, type_recall, type_f1, _ = precision_recall_fscore_support(\n",
        "            type_labels, type_preds, average=\"weighted\", zero_division=0\n",
        "        )\n",
        "\n",
        "        # Stance classification metrics\n",
        "        stance_acc = accuracy_score(stance_labels, stance_preds)\n",
        "        stance_precision, stance_recall, stance_f1, _ = precision_recall_fscore_support(\n",
        "            stance_labels, stance_preds, average=\"weighted\", zero_division=0\n",
        "        )\n",
        "\n",
        "        return {\n",
        "            \"type_accuracy\": type_acc,\n",
        "            \"type_precision\": type_precision,\n",
        "            \"type_recall\": type_recall,\n",
        "            \"type_f1\": type_f1,\n",
        "            \"stance_accuracy\": stance_acc,\n",
        "            \"stance_precision\": stance_precision,\n",
        "            \"stance_recall\": stance_recall,\n",
        "            \"stance_f1\": stance_f1,\n",
        "        }\n",
        "\n",
        "    else:\n",
        "        # For single-task case (just one head)\n",
        "        preds = logits.argmax(axis=-1)\n",
        "        acc = accuracy_score(labels, preds)\n",
        "        precision, recall, f1, _ = precision_recall_fscore_support(labels, preds, average=\"weighted\", zero_division=0)\n",
        "\n",
        "        return {\n",
        "            \"accuracy\": acc,\n",
        "            \"precision\": precision,\n",
        "            \"recall\": recall,\n",
        "            \"f1\": f1\n",
        "        }\n"
      ],
      "metadata": {
        "id": "bcYL3BrlVY0R"
      },
      "id": "bcYL3BrlVY0R",
      "execution_count": null,
      "outputs": []
    },
    {
      "cell_type": "markdown",
      "id": "H9ryBt41KuiK",
      "metadata": {
        "id": "H9ryBt41KuiK"
      },
      "source": []
    },
    {
      "cell_type": "code",
      "execution_count": null,
      "id": "gRO-aqu5OskM",
      "metadata": {
        "id": "gRO-aqu5OskM"
      },
      "outputs": [],
      "source": [
        "training_args = TrainingArguments(\n",
        "    output_dir='./results',  # Directory to save results\n",
        "    num_train_epochs=3,      # Number of training epochs\n",
        "    per_device_train_batch_size=16, # Batch size for training\n",
        "    per_device_eval_batch_size=16,  # Batch size for evaluation\n",
        "    warmup_steps=500,        # Number of warmup steps\n",
        "    weight_decay=0.01,       # Strength of weight decay\n",
        "    logging_dir='./logs',    # Directory for storing logs\n",
        "    logging_steps=10,\n",
        ")\n",
        "\n",
        "trainer = MultiTaskTrainer(\n",
        "    model=model,\n",
        "    args=training_args,\n",
        "    train_dataset=encoded_train,\n",
        "    eval_dataset=encoded_test,  # ← test set\n",
        "    tokenizer=tokenizer,\n",
        "    compute_metrics=compute_metrics\n",
        ")\n",
        "\n",
        "trainer.train()"
      ]
    },
    {
      "cell_type": "code",
      "source": [
        "trainer.evaulate()\n"
      ],
      "metadata": {
        "id": "pn08ARodKpcM"
      },
      "id": "pn08ARodKpcM",
      "execution_count": null,
      "outputs": []
    }
  ],
  "metadata": {
    "colab": {
      "provenance": []
    },
    "kernelspec": {
      "display_name": "Python 3",
      "name": "python3"
    },
    "language_info": {
      "name": "python"
    },
    "widgets": {
      "application/vnd.jupyter.widget-state+json": {
        "72dd835d2a504851b7b4bc7b0ac9829f": {
          "model_module": "@jupyter-widgets/controls",
          "model_name": "HBoxModel",
          "model_module_version": "1.5.0",
          "state": {
            "_dom_classes": [],
            "_model_module": "@jupyter-widgets/controls",
            "_model_module_version": "1.5.0",
            "_model_name": "HBoxModel",
            "_view_count": null,
            "_view_module": "@jupyter-widgets/controls",
            "_view_module_version": "1.5.0",
            "_view_name": "HBoxView",
            "box_style": "",
            "children": [
              "IPY_MODEL_6641871e3c434e49bdb5fdb120fe03c3",
              "IPY_MODEL_9c7585a33c1b4b82a07d06945ef7b3b8",
              "IPY_MODEL_7d1e8a0eae6c472aa0ba3e18889661c2"
            ],
            "layout": "IPY_MODEL_30a7e9958a3b412b8c38d407945c0b9a"
          }
        },
        "6641871e3c434e49bdb5fdb120fe03c3": {
          "model_module": "@jupyter-widgets/controls",
          "model_name": "HTMLModel",
          "model_module_version": "1.5.0",
          "state": {
            "_dom_classes": [],
            "_model_module": "@jupyter-widgets/controls",
            "_model_module_version": "1.5.0",
            "_model_name": "HTMLModel",
            "_view_count": null,
            "_view_module": "@jupyter-widgets/controls",
            "_view_module_version": "1.5.0",
            "_view_name": "HTMLView",
            "description": "",
            "description_tooltip": null,
            "layout": "IPY_MODEL_8077c882e07d4d4ca097e6c692c7111c",
            "placeholder": "​",
            "style": "IPY_MODEL_e49ffbdcc6084f88ae7cd9bbd469e0ea",
            "value": "Map: 100%"
          }
        },
        "9c7585a33c1b4b82a07d06945ef7b3b8": {
          "model_module": "@jupyter-widgets/controls",
          "model_name": "FloatProgressModel",
          "model_module_version": "1.5.0",
          "state": {
            "_dom_classes": [],
            "_model_module": "@jupyter-widgets/controls",
            "_model_module_version": "1.5.0",
            "_model_name": "FloatProgressModel",
            "_view_count": null,
            "_view_module": "@jupyter-widgets/controls",
            "_view_module_version": "1.5.0",
            "_view_name": "ProgressView",
            "bar_style": "success",
            "description": "",
            "description_tooltip": null,
            "layout": "IPY_MODEL_6c60783c5037406a8a76c3e6c1a91210",
            "max": 2000,
            "min": 0,
            "orientation": "horizontal",
            "style": "IPY_MODEL_3c55020e98a44fb2bc0ba739c032afcb",
            "value": 2000
          }
        },
        "7d1e8a0eae6c472aa0ba3e18889661c2": {
          "model_module": "@jupyter-widgets/controls",
          "model_name": "HTMLModel",
          "model_module_version": "1.5.0",
          "state": {
            "_dom_classes": [],
            "_model_module": "@jupyter-widgets/controls",
            "_model_module_version": "1.5.0",
            "_model_name": "HTMLModel",
            "_view_count": null,
            "_view_module": "@jupyter-widgets/controls",
            "_view_module_version": "1.5.0",
            "_view_name": "HTMLView",
            "description": "",
            "description_tooltip": null,
            "layout": "IPY_MODEL_a502ee96c8234629a09f4f20b551e98b",
            "placeholder": "​",
            "style": "IPY_MODEL_8878140491cf4cba926e1530bc3af489",
            "value": " 2000/2000 [00:01&lt;00:00, 1291.50 examples/s]"
          }
        },
        "30a7e9958a3b412b8c38d407945c0b9a": {
          "model_module": "@jupyter-widgets/base",
          "model_name": "LayoutModel",
          "model_module_version": "1.2.0",
          "state": {
            "_model_module": "@jupyter-widgets/base",
            "_model_module_version": "1.2.0",
            "_model_name": "LayoutModel",
            "_view_count": null,
            "_view_module": "@jupyter-widgets/base",
            "_view_module_version": "1.2.0",
            "_view_name": "LayoutView",
            "align_content": null,
            "align_items": null,
            "align_self": null,
            "border": null,
            "bottom": null,
            "display": null,
            "flex": null,
            "flex_flow": null,
            "grid_area": null,
            "grid_auto_columns": null,
            "grid_auto_flow": null,
            "grid_auto_rows": null,
            "grid_column": null,
            "grid_gap": null,
            "grid_row": null,
            "grid_template_areas": null,
            "grid_template_columns": null,
            "grid_template_rows": null,
            "height": null,
            "justify_content": null,
            "justify_items": null,
            "left": null,
            "margin": null,
            "max_height": null,
            "max_width": null,
            "min_height": null,
            "min_width": null,
            "object_fit": null,
            "object_position": null,
            "order": null,
            "overflow": null,
            "overflow_x": null,
            "overflow_y": null,
            "padding": null,
            "right": null,
            "top": null,
            "visibility": null,
            "width": null
          }
        },
        "8077c882e07d4d4ca097e6c692c7111c": {
          "model_module": "@jupyter-widgets/base",
          "model_name": "LayoutModel",
          "model_module_version": "1.2.0",
          "state": {
            "_model_module": "@jupyter-widgets/base",
            "_model_module_version": "1.2.0",
            "_model_name": "LayoutModel",
            "_view_count": null,
            "_view_module": "@jupyter-widgets/base",
            "_view_module_version": "1.2.0",
            "_view_name": "LayoutView",
            "align_content": null,
            "align_items": null,
            "align_self": null,
            "border": null,
            "bottom": null,
            "display": null,
            "flex": null,
            "flex_flow": null,
            "grid_area": null,
            "grid_auto_columns": null,
            "grid_auto_flow": null,
            "grid_auto_rows": null,
            "grid_column": null,
            "grid_gap": null,
            "grid_row": null,
            "grid_template_areas": null,
            "grid_template_columns": null,
            "grid_template_rows": null,
            "height": null,
            "justify_content": null,
            "justify_items": null,
            "left": null,
            "margin": null,
            "max_height": null,
            "max_width": null,
            "min_height": null,
            "min_width": null,
            "object_fit": null,
            "object_position": null,
            "order": null,
            "overflow": null,
            "overflow_x": null,
            "overflow_y": null,
            "padding": null,
            "right": null,
            "top": null,
            "visibility": null,
            "width": null
          }
        },
        "e49ffbdcc6084f88ae7cd9bbd469e0ea": {
          "model_module": "@jupyter-widgets/controls",
          "model_name": "DescriptionStyleModel",
          "model_module_version": "1.5.0",
          "state": {
            "_model_module": "@jupyter-widgets/controls",
            "_model_module_version": "1.5.0",
            "_model_name": "DescriptionStyleModel",
            "_view_count": null,
            "_view_module": "@jupyter-widgets/base",
            "_view_module_version": "1.2.0",
            "_view_name": "StyleView",
            "description_width": ""
          }
        },
        "6c60783c5037406a8a76c3e6c1a91210": {
          "model_module": "@jupyter-widgets/base",
          "model_name": "LayoutModel",
          "model_module_version": "1.2.0",
          "state": {
            "_model_module": "@jupyter-widgets/base",
            "_model_module_version": "1.2.0",
            "_model_name": "LayoutModel",
            "_view_count": null,
            "_view_module": "@jupyter-widgets/base",
            "_view_module_version": "1.2.0",
            "_view_name": "LayoutView",
            "align_content": null,
            "align_items": null,
            "align_self": null,
            "border": null,
            "bottom": null,
            "display": null,
            "flex": null,
            "flex_flow": null,
            "grid_area": null,
            "grid_auto_columns": null,
            "grid_auto_flow": null,
            "grid_auto_rows": null,
            "grid_column": null,
            "grid_gap": null,
            "grid_row": null,
            "grid_template_areas": null,
            "grid_template_columns": null,
            "grid_template_rows": null,
            "height": null,
            "justify_content": null,
            "justify_items": null,
            "left": null,
            "margin": null,
            "max_height": null,
            "max_width": null,
            "min_height": null,
            "min_width": null,
            "object_fit": null,
            "object_position": null,
            "order": null,
            "overflow": null,
            "overflow_x": null,
            "overflow_y": null,
            "padding": null,
            "right": null,
            "top": null,
            "visibility": null,
            "width": null
          }
        },
        "3c55020e98a44fb2bc0ba739c032afcb": {
          "model_module": "@jupyter-widgets/controls",
          "model_name": "ProgressStyleModel",
          "model_module_version": "1.5.0",
          "state": {
            "_model_module": "@jupyter-widgets/controls",
            "_model_module_version": "1.5.0",
            "_model_name": "ProgressStyleModel",
            "_view_count": null,
            "_view_module": "@jupyter-widgets/base",
            "_view_module_version": "1.2.0",
            "_view_name": "StyleView",
            "bar_color": null,
            "description_width": ""
          }
        },
        "a502ee96c8234629a09f4f20b551e98b": {
          "model_module": "@jupyter-widgets/base",
          "model_name": "LayoutModel",
          "model_module_version": "1.2.0",
          "state": {
            "_model_module": "@jupyter-widgets/base",
            "_model_module_version": "1.2.0",
            "_model_name": "LayoutModel",
            "_view_count": null,
            "_view_module": "@jupyter-widgets/base",
            "_view_module_version": "1.2.0",
            "_view_name": "LayoutView",
            "align_content": null,
            "align_items": null,
            "align_self": null,
            "border": null,
            "bottom": null,
            "display": null,
            "flex": null,
            "flex_flow": null,
            "grid_area": null,
            "grid_auto_columns": null,
            "grid_auto_flow": null,
            "grid_auto_rows": null,
            "grid_column": null,
            "grid_gap": null,
            "grid_row": null,
            "grid_template_areas": null,
            "grid_template_columns": null,
            "grid_template_rows": null,
            "height": null,
            "justify_content": null,
            "justify_items": null,
            "left": null,
            "margin": null,
            "max_height": null,
            "max_width": null,
            "min_height": null,
            "min_width": null,
            "object_fit": null,
            "object_position": null,
            "order": null,
            "overflow": null,
            "overflow_x": null,
            "overflow_y": null,
            "padding": null,
            "right": null,
            "top": null,
            "visibility": null,
            "width": null
          }
        },
        "8878140491cf4cba926e1530bc3af489": {
          "model_module": "@jupyter-widgets/controls",
          "model_name": "DescriptionStyleModel",
          "model_module_version": "1.5.0",
          "state": {
            "_model_module": "@jupyter-widgets/controls",
            "_model_module_version": "1.5.0",
            "_model_name": "DescriptionStyleModel",
            "_view_count": null,
            "_view_module": "@jupyter-widgets/base",
            "_view_module_version": "1.2.0",
            "_view_name": "StyleView",
            "description_width": ""
          }
        },
        "68fd5bca457d44be91e7276489b322ac": {
          "model_module": "@jupyter-widgets/controls",
          "model_name": "HBoxModel",
          "model_module_version": "1.5.0",
          "state": {
            "_dom_classes": [],
            "_model_module": "@jupyter-widgets/controls",
            "_model_module_version": "1.5.0",
            "_model_name": "HBoxModel",
            "_view_count": null,
            "_view_module": "@jupyter-widgets/controls",
            "_view_module_version": "1.5.0",
            "_view_name": "HBoxView",
            "box_style": "",
            "children": [
              "IPY_MODEL_26c7c1457e9e494780691babad561c7c",
              "IPY_MODEL_7e65bbad788a46df888bc065332f3a90",
              "IPY_MODEL_ed85ab07e74a49b785ecef214fa498be"
            ],
            "layout": "IPY_MODEL_e58ea05a016d469899e46f71d47742f1"
          }
        },
        "26c7c1457e9e494780691babad561c7c": {
          "model_module": "@jupyter-widgets/controls",
          "model_name": "HTMLModel",
          "model_module_version": "1.5.0",
          "state": {
            "_dom_classes": [],
            "_model_module": "@jupyter-widgets/controls",
            "_model_module_version": "1.5.0",
            "_model_name": "HTMLModel",
            "_view_count": null,
            "_view_module": "@jupyter-widgets/controls",
            "_view_module_version": "1.5.0",
            "_view_name": "HTMLView",
            "description": "",
            "description_tooltip": null,
            "layout": "IPY_MODEL_751f485435cf452fbce2013589f1b2b9",
            "placeholder": "​",
            "style": "IPY_MODEL_65cd725e5c0a4ed1b80368cb91e614bc",
            "value": "Map: 100%"
          }
        },
        "7e65bbad788a46df888bc065332f3a90": {
          "model_module": "@jupyter-widgets/controls",
          "model_name": "FloatProgressModel",
          "model_module_version": "1.5.0",
          "state": {
            "_dom_classes": [],
            "_model_module": "@jupyter-widgets/controls",
            "_model_module_version": "1.5.0",
            "_model_name": "FloatProgressModel",
            "_view_count": null,
            "_view_module": "@jupyter-widgets/controls",
            "_view_module_version": "1.5.0",
            "_view_name": "ProgressView",
            "bar_style": "success",
            "description": "",
            "description_tooltip": null,
            "layout": "IPY_MODEL_56d9df2e21754366bc45f5ace662386b",
            "max": 10000,
            "min": 0,
            "orientation": "horizontal",
            "style": "IPY_MODEL_7108043063ec46f996e52bc1ca2b84a1",
            "value": 10000
          }
        },
        "ed85ab07e74a49b785ecef214fa498be": {
          "model_module": "@jupyter-widgets/controls",
          "model_name": "HTMLModel",
          "model_module_version": "1.5.0",
          "state": {
            "_dom_classes": [],
            "_model_module": "@jupyter-widgets/controls",
            "_model_module_version": "1.5.0",
            "_model_name": "HTMLModel",
            "_view_count": null,
            "_view_module": "@jupyter-widgets/controls",
            "_view_module_version": "1.5.0",
            "_view_name": "HTMLView",
            "description": "",
            "description_tooltip": null,
            "layout": "IPY_MODEL_159d5f25fa9c4c49a4f66265009517bc",
            "placeholder": "​",
            "style": "IPY_MODEL_b642f898705a47ec8c302acbf850a072",
            "value": " 10000/10000 [00:10&lt;00:00, 1054.64 examples/s]"
          }
        },
        "e58ea05a016d469899e46f71d47742f1": {
          "model_module": "@jupyter-widgets/base",
          "model_name": "LayoutModel",
          "model_module_version": "1.2.0",
          "state": {
            "_model_module": "@jupyter-widgets/base",
            "_model_module_version": "1.2.0",
            "_model_name": "LayoutModel",
            "_view_count": null,
            "_view_module": "@jupyter-widgets/base",
            "_view_module_version": "1.2.0",
            "_view_name": "LayoutView",
            "align_content": null,
            "align_items": null,
            "align_self": null,
            "border": null,
            "bottom": null,
            "display": null,
            "flex": null,
            "flex_flow": null,
            "grid_area": null,
            "grid_auto_columns": null,
            "grid_auto_flow": null,
            "grid_auto_rows": null,
            "grid_column": null,
            "grid_gap": null,
            "grid_row": null,
            "grid_template_areas": null,
            "grid_template_columns": null,
            "grid_template_rows": null,
            "height": null,
            "justify_content": null,
            "justify_items": null,
            "left": null,
            "margin": null,
            "max_height": null,
            "max_width": null,
            "min_height": null,
            "min_width": null,
            "object_fit": null,
            "object_position": null,
            "order": null,
            "overflow": null,
            "overflow_x": null,
            "overflow_y": null,
            "padding": null,
            "right": null,
            "top": null,
            "visibility": null,
            "width": null
          }
        },
        "751f485435cf452fbce2013589f1b2b9": {
          "model_module": "@jupyter-widgets/base",
          "model_name": "LayoutModel",
          "model_module_version": "1.2.0",
          "state": {
            "_model_module": "@jupyter-widgets/base",
            "_model_module_version": "1.2.0",
            "_model_name": "LayoutModel",
            "_view_count": null,
            "_view_module": "@jupyter-widgets/base",
            "_view_module_version": "1.2.0",
            "_view_name": "LayoutView",
            "align_content": null,
            "align_items": null,
            "align_self": null,
            "border": null,
            "bottom": null,
            "display": null,
            "flex": null,
            "flex_flow": null,
            "grid_area": null,
            "grid_auto_columns": null,
            "grid_auto_flow": null,
            "grid_auto_rows": null,
            "grid_column": null,
            "grid_gap": null,
            "grid_row": null,
            "grid_template_areas": null,
            "grid_template_columns": null,
            "grid_template_rows": null,
            "height": null,
            "justify_content": null,
            "justify_items": null,
            "left": null,
            "margin": null,
            "max_height": null,
            "max_width": null,
            "min_height": null,
            "min_width": null,
            "object_fit": null,
            "object_position": null,
            "order": null,
            "overflow": null,
            "overflow_x": null,
            "overflow_y": null,
            "padding": null,
            "right": null,
            "top": null,
            "visibility": null,
            "width": null
          }
        },
        "65cd725e5c0a4ed1b80368cb91e614bc": {
          "model_module": "@jupyter-widgets/controls",
          "model_name": "DescriptionStyleModel",
          "model_module_version": "1.5.0",
          "state": {
            "_model_module": "@jupyter-widgets/controls",
            "_model_module_version": "1.5.0",
            "_model_name": "DescriptionStyleModel",
            "_view_count": null,
            "_view_module": "@jupyter-widgets/base",
            "_view_module_version": "1.2.0",
            "_view_name": "StyleView",
            "description_width": ""
          }
        },
        "56d9df2e21754366bc45f5ace662386b": {
          "model_module": "@jupyter-widgets/base",
          "model_name": "LayoutModel",
          "model_module_version": "1.2.0",
          "state": {
            "_model_module": "@jupyter-widgets/base",
            "_model_module_version": "1.2.0",
            "_model_name": "LayoutModel",
            "_view_count": null,
            "_view_module": "@jupyter-widgets/base",
            "_view_module_version": "1.2.0",
            "_view_name": "LayoutView",
            "align_content": null,
            "align_items": null,
            "align_self": null,
            "border": null,
            "bottom": null,
            "display": null,
            "flex": null,
            "flex_flow": null,
            "grid_area": null,
            "grid_auto_columns": null,
            "grid_auto_flow": null,
            "grid_auto_rows": null,
            "grid_column": null,
            "grid_gap": null,
            "grid_row": null,
            "grid_template_areas": null,
            "grid_template_columns": null,
            "grid_template_rows": null,
            "height": null,
            "justify_content": null,
            "justify_items": null,
            "left": null,
            "margin": null,
            "max_height": null,
            "max_width": null,
            "min_height": null,
            "min_width": null,
            "object_fit": null,
            "object_position": null,
            "order": null,
            "overflow": null,
            "overflow_x": null,
            "overflow_y": null,
            "padding": null,
            "right": null,
            "top": null,
            "visibility": null,
            "width": null
          }
        },
        "7108043063ec46f996e52bc1ca2b84a1": {
          "model_module": "@jupyter-widgets/controls",
          "model_name": "ProgressStyleModel",
          "model_module_version": "1.5.0",
          "state": {
            "_model_module": "@jupyter-widgets/controls",
            "_model_module_version": "1.5.0",
            "_model_name": "ProgressStyleModel",
            "_view_count": null,
            "_view_module": "@jupyter-widgets/base",
            "_view_module_version": "1.2.0",
            "_view_name": "StyleView",
            "bar_color": null,
            "description_width": ""
          }
        },
        "159d5f25fa9c4c49a4f66265009517bc": {
          "model_module": "@jupyter-widgets/base",
          "model_name": "LayoutModel",
          "model_module_version": "1.2.0",
          "state": {
            "_model_module": "@jupyter-widgets/base",
            "_model_module_version": "1.2.0",
            "_model_name": "LayoutModel",
            "_view_count": null,
            "_view_module": "@jupyter-widgets/base",
            "_view_module_version": "1.2.0",
            "_view_name": "LayoutView",
            "align_content": null,
            "align_items": null,
            "align_self": null,
            "border": null,
            "bottom": null,
            "display": null,
            "flex": null,
            "flex_flow": null,
            "grid_area": null,
            "grid_auto_columns": null,
            "grid_auto_flow": null,
            "grid_auto_rows": null,
            "grid_column": null,
            "grid_gap": null,
            "grid_row": null,
            "grid_template_areas": null,
            "grid_template_columns": null,
            "grid_template_rows": null,
            "height": null,
            "justify_content": null,
            "justify_items": null,
            "left": null,
            "margin": null,
            "max_height": null,
            "max_width": null,
            "min_height": null,
            "min_width": null,
            "object_fit": null,
            "object_position": null,
            "order": null,
            "overflow": null,
            "overflow_x": null,
            "overflow_y": null,
            "padding": null,
            "right": null,
            "top": null,
            "visibility": null,
            "width": null
          }
        },
        "b642f898705a47ec8c302acbf850a072": {
          "model_module": "@jupyter-widgets/controls",
          "model_name": "DescriptionStyleModel",
          "model_module_version": "1.5.0",
          "state": {
            "_model_module": "@jupyter-widgets/controls",
            "_model_module_version": "1.5.0",
            "_model_name": "DescriptionStyleModel",
            "_view_count": null,
            "_view_module": "@jupyter-widgets/base",
            "_view_module_version": "1.2.0",
            "_view_name": "StyleView",
            "description_width": ""
          }
        }
      }
    }
  },
  "nbformat": 4,
  "nbformat_minor": 5
}